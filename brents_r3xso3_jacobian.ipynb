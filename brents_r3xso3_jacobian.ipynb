{
 "cells": [
  {
   "cell_type": "code",
   "execution_count": 120,
   "id": "c307cfb8-6fae-462a-a91b-a8a260b8bb92",
   "metadata": {},
   "outputs": [],
   "source": [
    "import jax\n",
    "import jax.numpy as jnp\n",
    "import jaxlie\n",
    "\n",
    "import numpy as onp\n",
    "\n",
    "from jaxmp import JaxKinTree\n",
    "\n",
    "from jaxmp.extras.urdf_loader import load_urdf"
   ]
  },
  {
   "cell_type": "code",
   "execution_count": 4,
   "id": "0ab4f786-c39e-4059-8047-b82cd27dc5c6",
   "metadata": {},
   "outputs": [],
   "source": [
    "urdf = load_urdf(\"panda\")"
   ]
  },
  {
   "cell_type": "code",
   "execution_count": 10,
   "id": "78086960-eb0a-4efa-b7f6-9ea2162530ec",
   "metadata": {},
   "outputs": [
    {
     "name": "stderr",
     "output_type": "stream",
     "text": [
      "\u001b[32m2025-02-21 19:18:16.007\u001b[0m | \u001b[33m\u001b[1mWARNING \u001b[0m | \u001b[36mjaxmp.kinematics\u001b[0m:\u001b[36m_get_act_joint_idx\u001b[0m:\u001b[36m158\u001b[0m - \u001b[33m\u001b[1mMimic joint detected.\u001b[0m\n"
     ]
    }
   ],
   "source": [
    "kin = JaxKinTree.from_urdf(urdf)"
   ]
  },
  {
   "cell_type": "code",
   "execution_count": 19,
   "id": "eaac5f0c-8950-4118-b411-54816fc8d0bb",
   "metadata": {},
   "outputs": [],
   "source": [
    "from jac_visualizer import jac_position_cost, get_idx_applied_to_target"
   ]
  },
  {
   "cell_type": "code",
   "execution_count": 17,
   "id": "497a6b21-3583-4f43-8d5a-edd7ddf6beed",
   "metadata": {},
   "outputs": [],
   "source": [
    "target_joint_idx = urdf.joint_names.index(urdf.joint_names[-1])"
   ]
  },
  {
   "cell_type": "code",
   "execution_count": 20,
   "id": "8cc81dab-83c4-4265-9086-d9777cb872ed",
   "metadata": {},
   "outputs": [],
   "source": [
    "idx_applied_to_target = get_idx_applied_to_target(kin, target_joint_idx)"
   ]
  },
  {
   "cell_type": "code",
   "execution_count": 21,
   "id": "3d416381-609c-440c-ba2f-03c8c0b9160a",
   "metadata": {},
   "outputs": [
    {
     "name": "stdout",
     "output_type": "stream",
     "text": [
      "[ 0  1  2  3  4  5  6 -1 -1 -1 -1  7]\n"
     ]
    }
   ],
   "source": [
    "print(idx_applied_to_target)"
   ]
  },
  {
   "cell_type": "code",
   "execution_count": 22,
   "id": "36be89c1-8964-47b6-9e2e-982a242768b5",
   "metadata": {},
   "outputs": [
    {
     "data": {
      "text/plain": [
       "8"
      ]
     },
     "execution_count": 22,
     "metadata": {},
     "output_type": "execute_result"
    }
   ],
   "source": [
    "kin.num_actuated_joints"
   ]
  },
  {
   "cell_type": "code",
   "execution_count": 173,
   "id": "8c4c5839-6c82-4251-9a5f-65227c6252dc",
   "metadata": {},
   "outputs": [
    {
     "name": "stdout",
     "output_type": "stream",
     "text": [
      "[ 0.12573022 -0.13210486  0.64042265  0.10490012 -0.53566937  0.36159505\n",
      "  1.30400005  0.94708096]\n"
     ]
    }
   ],
   "source": [
    "# cfg = jnp.zeros((kin.num_actuated_joints,))\n",
    "import numpy as np\n",
    "\n",
    "cfg = np.random.default_rng(0).normal(size=(kin.num_actuated_joints,))\n",
    "print(cfg)"
   ]
  },
  {
   "cell_type": "code",
   "execution_count": null,
   "id": "69dff74e-f353-4f65-82d7-86065cf2a446",
   "metadata": {},
   "outputs": [],
   "source": []
  },
  {
   "cell_type": "code",
   "execution_count": 174,
   "id": "28a15035-97c3-402e-9e68-ed3a0dcdde46",
   "metadata": {},
   "outputs": [
    {
     "name": "stdout",
     "output_type": "stream",
     "text": [
      "Manual Jacobian\n",
      " [[ 0.878  0.297  0.866  0.09   0.852  0.336 -0.782 -0.199]\n",
      " [-0.148  0.038 -0.108  0.003 -0.106  0.091  0.31  -0.931]\n",
      " [ 0.     0.257  0.112 -0.759  0.169 -0.227 -0.434 -0.307]]\n",
      "Autodiff Jacobian\n",
      " [[ 0.878  0.297  0.866  0.09   0.852  0.336 -0.782 -0.199]\n",
      " [-0.148  0.038 -0.108  0.003 -0.106  0.091  0.31  -0.931]\n",
      " [-0.     0.257  0.112 -0.759  0.169 -0.227 -0.434 -0.307]]\n",
      "\n",
      "Difference\n",
      " [[-0.  0. -0. -0. -0. -0.  0.  0.]\n",
      " [ 0. -0.  0. -0.  0.  0.  0.  0.]\n",
      " [-0. -0. -0.  0. -0.  0.  0.  0.]]\n"
     ]
    }
   ],
   "source": [
    "jac = jac_position_cost(kin, cfg, target_joint_idx, idx_applied_to_target)\n",
    "\n",
    "\n",
    "def position_cost(cfg):\n",
    "    ee_wxyz_xyz = kin.forward_kinematics(cfg)[target_joint_idx]\n",
    "    assert ee_wxyz_xyz.shape == (7,)\n",
    "    return ee_wxyz_xyz[4:7]\n",
    "\n",
    "\n",
    "jac_autodiff = jax.jacfwd(position_cost)(cfg)\n",
    "\n",
    "print(\"Manual Jacobian\\n\", onp.array(jac).round(3))\n",
    "print(\"Autodiff Jacobian\\n\", onp.array(jac_autodiff).round(3))\n",
    "print()\n",
    "print(\"Difference\\n\", onp.array(jac_autodiff - jac).round(5))"
   ]
  },
  {
   "cell_type": "code",
   "execution_count": 175,
   "id": "1526cace-1c25-4a32-a4da-9e82ee6925b8",
   "metadata": {},
   "outputs": [
    {
     "name": "stdout",
     "output_type": "stream",
     "text": [
      "Manual Jacobian\n",
      " [[ 0.878  0.297  0.866  0.09   0.852  0.336 -0.782 -0.199]\n",
      " [-0.148  0.038 -0.108  0.003 -0.106  0.091  0.31  -0.931]\n",
      " [ 0.     0.257  0.112 -0.759  0.169 -0.227 -0.434 -0.307]]\n",
      "Autodiff Jacobian\n",
      " [[ 0.878  0.297  0.866  0.09   0.852  0.336 -0.782 -0.199]\n",
      " [-0.148  0.038 -0.108  0.003 -0.106  0.091  0.31  -0.931]\n",
      " [-0.     0.257  0.112 -0.759  0.169 -0.227 -0.434 -0.307]]\n",
      "\n",
      "Difference\n",
      " [[-0.  0. -0. -0. -0. -0.  0.  0.]\n",
      " [ 0. -0.  0. -0.  0.  0.  0.  0.]\n",
      " [-0. -0. -0.  0. -0.  0.  0.  0.]]\n"
     ]
    }
   ],
   "source": [
    "jac = jac_position_cost(kin, cfg, target_joint_idx, idx_applied_to_target)\n",
    "\n",
    "\n",
    "def position_cost(cfg):\n",
    "    ee_wxyz_xyz = kin.forward_kinematics(cfg)[target_joint_idx]\n",
    "    assert ee_wxyz_xyz.shape == (7,)\n",
    "    return ee_wxyz_xyz[4:7]\n",
    "\n",
    "\n",
    "jac_autodiff = jax.jacfwd(position_cost)(cfg)\n",
    "\n",
    "print(\"Manual Jacobian\\n\", onp.array(jac).round(3))\n",
    "print(\"Autodiff Jacobian\\n\", onp.array(jac_autodiff).round(3))\n",
    "print()\n",
    "print(\"Difference\\n\", onp.array(jac_autodiff - jac).round(5))"
   ]
  },
  {
   "cell_type": "code",
   "execution_count": null,
   "id": "49cf970b-47cc-4bf2-bec5-4aaeca077601",
   "metadata": {},
   "outputs": [],
   "source": []
  },
  {
   "cell_type": "code",
   "execution_count": null,
   "id": "7d0b5c25-4bc3-4714-a23c-3de0df43e08d",
   "metadata": {},
   "outputs": [],
   "source": []
  },
  {
   "cell_type": "code",
   "execution_count": null,
   "id": "6670cdae-7115-4945-a1ff-d036329414c5",
   "metadata": {},
   "outputs": [],
   "source": []
  },
  {
   "cell_type": "code",
   "execution_count": 176,
   "id": "d08a2b4d-62d6-4399-85ff-77cdcdde3e59",
   "metadata": {},
   "outputs": [
    {
     "name": "stdout",
     "output_type": "stream",
     "text": [
      "Manual Jacobian\n",
      " [[ 0.633  0.36   0.754 -0.811  0.801 -0.491 -1.019 -0.   ]\n",
      " [-0.242  0.935 -0.297 -0.512 -0.387 -0.87   0.525 -0.   ]\n",
      " [ 1.059 -0.03   0.961  0.509  0.889  0.065 -0.518 -0.   ]\n",
      " [ 0.878  0.297  0.866  0.09   0.852  0.336 -0.782 -0.199]\n",
      " [-0.148  0.038 -0.108  0.003 -0.106  0.091  0.31  -0.931]\n",
      " [ 0.     0.257  0.112 -0.759  0.169 -0.227 -0.434 -0.307]]\n",
      "Autodiff Jacobian\n",
      " [[ 0.633  0.36   0.754 -0.811  0.801 -0.491 -1.019  0.   ]\n",
      " [-0.242  0.935 -0.297 -0.512 -0.387 -0.87   0.525  0.   ]\n",
      " [ 1.059 -0.03   0.961  0.509  0.889  0.065 -0.518 -0.   ]\n",
      " [ 0.878  0.297  0.866  0.09   0.852  0.336 -0.782 -0.199]\n",
      " [-0.148  0.038 -0.108  0.003 -0.106  0.091  0.31  -0.931]\n",
      " [-0.     0.257  0.112 -0.759  0.169 -0.227 -0.434 -0.307]]\n",
      "\n",
      "Difference\n",
      " [[-0. -0. -0.  0. -0.  0.  0.  0.]\n",
      " [ 0. -0.  0.  0.  0.  0. -0.  0.]\n",
      " [-0.  0. -0. -0. -0.  0.  0.  0.]\n",
      " [-0.  0. -0. -0. -0. -0.  0.  0.]\n",
      " [ 0. -0.  0. -0.  0.  0.  0.  0.]\n",
      " [-0. -0. -0.  0. -0.  0.  0.  0.]]\n"
     ]
    }
   ],
   "source": [
    "def _skew(omega: jax.Array) -> jax.Array:\n",
    "    \"\"\"Returns the skew-symmetric form of a length-3 vector.\"\"\"\n",
    "\n",
    "    wx, wy, wz = jnp.moveaxis(omega, -1, 0)\n",
    "    zeros = jnp.zeros_like(wx)\n",
    "    return jnp.stack(\n",
    "        [zeros, -wz, wy, wz, zeros, -wx, -wy, wx, zeros],\n",
    "        axis=-1,\n",
    "    ).reshape((*omega.shape[:-1], 3, 3))\n",
    "\n",
    "\n",
    "def V_inv(theta: jax.Array) -> jax.Array:\n",
    "    theta_squared = jnp.sum(jnp.square(theta), axis=-1)\n",
    "    use_taylor = theta_squared < 1e-5\n",
    "\n",
    "    # Shim to avoid NaNs in jnp.where branches, which cause failures for\n",
    "    # reverse-mode AD.\n",
    "    theta_squared_safe = jnp.where(\n",
    "        use_taylor,\n",
    "        jnp.ones_like(theta_squared),  # Any non-zero value should do here.\n",
    "        theta_squared,\n",
    "    )\n",
    "    del theta_squared\n",
    "    theta_safe = jnp.sqrt(theta_squared_safe)\n",
    "    half_theta_safe = theta_safe / 2.0\n",
    "\n",
    "    skew_omega = _skew(theta)\n",
    "    V_inv = jnp.where(\n",
    "        use_taylor[..., None, None],\n",
    "        jnp.eye(3)\n",
    "        - 0.5 * skew_omega\n",
    "        + jnp.einsum(\"...ij,...jk->...ik\", skew_omega, skew_omega) / 12.0,\n",
    "        (\n",
    "            jnp.eye(3)\n",
    "            - 0.5 * skew_omega\n",
    "            + (\n",
    "                (\n",
    "                    1.0\n",
    "                    - theta_safe\n",
    "                    * jnp.cos(half_theta_safe)\n",
    "                    / (2.0 * jnp.sin(half_theta_safe))\n",
    "                )\n",
    "                / theta_squared_safe\n",
    "            )[..., None, None]\n",
    "            * jnp.einsum(\"...ij,...jk->...ik\", skew_omega, skew_omega)\n",
    "        ),\n",
    "    )\n",
    "    return V_inv\n",
    "\n",
    "\n",
    "target = jaxlie.SE3(kin.forward_kinematics(cfg)[-1]) @ jaxlie.SE3.sample_uniform(\n",
    "    jax.random.PRNGKey(5)\n",
    ")\n",
    "\n",
    "\n",
    "def jac_position_and_orientation_cost(\n",
    "    kin: JaxKinTree,\n",
    "    cfg: jnp.ndarray,\n",
    "    target_joint_idx: int,\n",
    "    idx_applied_to_target: jax.Array,\n",
    ") -> jnp.ndarray:\n",
    "    \"\"\"Jacobian for doing basic IK.\"\"\"\n",
    "    Ts_world_joint = kin.forward_kinematics(cfg)\n",
    "    T_world_target = jaxlie.SE3(Ts_world_joint[target_joint_idx])\n",
    "\n",
    "    # Get the kinematic chain\n",
    "    Ts_world_act_joint = jaxlie.SE3(Ts_world_joint)\n",
    "    joint_twists = kin.joint_twists[kin.idx_actuated_joint]\n",
    "    vel = joint_twists[..., :3]\n",
    "    omega = joint_twists[..., 3:]\n",
    "\n",
    "    ### Get the translational component.\n",
    "    # Get the kinematic chain\n",
    "    parent_translation = T_world_target.translation() - Ts_world_act_joint.translation()\n",
    "    omega = Ts_world_act_joint.rotation() @ omega\n",
    "    vel = Ts_world_act_joint.rotation() @ vel\n",
    "\n",
    "    linear_part = jnp.cross(omega, b=parent_translation).squeeze() + vel.squeeze()\n",
    "    jac_translation = jnp.zeros((3, kin.num_actuated_joints))\n",
    "    jac_translation = jac_translation.at[:, idx_applied_to_target].add(\n",
    "        jnp.where(\n",
    "            (idx_applied_to_target != -1)[None],\n",
    "            linear_part.T,\n",
    "            jnp.zeros((3, 1)),\n",
    "        )\n",
    "    )\n",
    "    assert jac_translation.shape == (3, kin.num_actuated_joints)\n",
    "\n",
    "    omega_wrt_ee = T_world_target.rotation().inverse() @ omega\n",
    "    ori_error = T_world_target.rotation().inverse() @ target.rotation()\n",
    "    Jlog3 = V_inv(ori_error.log())\n",
    "\n",
    "    jac_orientation = jnp.zeros((3, kin.num_actuated_joints))\n",
    "    jac_orientation = jac_orientation.at[:, idx_applied_to_target].add(\n",
    "        jnp.where(\n",
    "            (idx_applied_to_target != -1)[None],\n",
    "            Jlog3 @ omega_wrt_ee.T,\n",
    "            jnp.zeros((3, 1)),\n",
    "        )\n",
    "    )\n",
    "    # need negative because inverse is on target term, I think\n",
    "    jac_orientation = -jac_orientation\n",
    "\n",
    "    return jnp.concatenate(\n",
    "        [\n",
    "            jac_orientation,\n",
    "            jac_translation,\n",
    "        ]\n",
    "    )\n",
    "\n",
    "\n",
    "jac = jac_position_and_orientation_cost(\n",
    "    kin, cfg, target_joint_idx, idx_applied_to_target\n",
    ")\n",
    "\n",
    "\n",
    "def position_and_orientation_cost(cfg):\n",
    "    T_world_target = kin.forward_kinematics(cfg)[target_joint_idx]\n",
    "    assert T_world_target.shape == (7,)\n",
    "    return jnp.concatenate(\n",
    "        [\n",
    "            # We're going to compute:\n",
    "            #\n",
    "            #    log(R_ee_target)\n",
    "            #\n",
    "            #    f = log( Roterror ( input ) )\n",
    "            #\n",
    "            # (R_world_ee)^{-1} @ R_world_target\n",
    "            (jaxlie.SO3(T_world_target[:4]).inverse() @ target.rotation()).log(),\n",
    "            T_world_target[4:7] - target.wxyz_xyz[4:7],\n",
    "        ]\n",
    "    )\n",
    "\n",
    "\n",
    "jac_autodiff = jax.jacfwd(position_and_orientation_cost)(cfg)\n",
    "\n",
    "print(\"Manual Jacobian\\n\", onp.array(jac).round(3))\n",
    "print(\"Autodiff Jacobian\\n\", onp.array(jac_autodiff).round(3))\n",
    "print()\n",
    "print(\"Difference\\n\", onp.array(jac_autodiff - jac).round(5))"
   ]
  },
  {
   "cell_type": "code",
   "execution_count": 177,
   "id": "1d70823e-8089-4434-a589-fcebb16c0421",
   "metadata": {},
   "outputs": [
    {
     "name": "stdout",
     "output_type": "stream",
     "text": [
      "[1.257433  1.0019157 1.2572322 1.0860132 1.2580618 1.0008051 1.257996\n",
      " 0.       ]\n",
      "[1.2574327 1.0019152 1.2572321 1.086013  1.258061  1.0008049 1.2579957\n",
      " 0.       ]\n"
     ]
    }
   ],
   "source": [
    "print(np.linalg.norm(jac[:3, :], axis=0))\n",
    "print(np.linalg.norm(jac_autodiff[:3, :], axis=0))"
   ]
  },
  {
   "cell_type": "code",
   "execution_count": 179,
   "id": "9bfc9b19-d084-406c-8a6a-4adb91c960e0",
   "metadata": {},
   "outputs": [
    {
     "data": {
      "text/plain": [
       "Array([[ 0.6162893 ,  0.2136889 ,  1.0189798 ],\n",
       "       [ 0.17484526,  0.9014716 , -0.5252336 ],\n",
       "       [-1.0263586 ,  0.5106646 ,  0.51803756]], dtype=float32)"
      ]
     },
     "execution_count": 179,
     "metadata": {},
     "output_type": "execute_result"
    }
   ],
   "source": [
    "_V_inv(position_and_orientation_cost(cfg)[:3])"
   ]
  },
  {
   "cell_type": "code",
   "execution_count": null,
   "id": "f30290e5-d98e-48f3-9b78-09352e8cf2d2",
   "metadata": {},
   "outputs": [],
   "source": []
  },
  {
   "cell_type": "code",
   "execution_count": null,
   "id": "437a076c-31f8-4306-aab3-fc03e5b7dcf8",
   "metadata": {},
   "outputs": [],
   "source": []
  },
  {
   "cell_type": "code",
   "execution_count": null,
   "id": "9ae868ee-28d8-4a27-933c-e5036b87a4f3",
   "metadata": {},
   "outputs": [],
   "source": []
  }
 ],
 "metadata": {
  "kernelspec": {
   "display_name": "Python 3 (ipykernel)",
   "language": "python",
   "name": "python3"
  },
  "language_info": {
   "codemirror_mode": {
    "name": "ipython",
    "version": 3
   },
   "file_extension": ".py",
   "mimetype": "text/x-python",
   "name": "python",
   "nbconvert_exporter": "python",
   "pygments_lexer": "ipython3",
   "version": "3.12.4"
  }
 },
 "nbformat": 4,
 "nbformat_minor": 5
}
